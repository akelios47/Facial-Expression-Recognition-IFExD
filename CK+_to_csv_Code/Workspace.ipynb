{
 "cells": [
  {
   "cell_type": "markdown",
   "metadata": {},
   "source": [
    "## Modules"
   ]
  },
  {
   "cell_type": "code",
   "execution_count": 1,
   "metadata": {},
   "outputs": [],
   "source": [
    "import numpy as np\n",
    "import pandas as pd\n",
    "import os, cv2, csv, random, sys\n",
    "import matplotlib.pyplot as plt\n",
    "import matplotlib.image as mpimg\n",
    "from pylab import rcParams\n",
    "rcParams['figure.figsize'] = 20, 10"
   ]
  },
  {
   "cell_type": "markdown",
   "metadata": {},
   "source": [
    "## Preprocessing"
   ]
  },
  {
   "cell_type": "code",
   "execution_count": 2,
   "metadata": {
    "scrolled": false
   },
   "outputs": [
    {
     "name": "stdout",
     "output_type": "stream",
     "text": [
      "Loaded the images of dataset-anger\n",
      "\n",
      "Loaded the images of dataset-contempt\n",
      "\n",
      "Loaded the images of dataset-disgust\n",
      "\n",
      "Loaded the images of dataset-fear\n",
      "\n",
      "Loaded the images of dataset-happy\n",
      "\n",
      "Loaded the images of dataset-sadness\n",
      "\n",
      "Loaded the images of dataset-surprise\n",
      "\n",
      "Done!\n"
     ]
    }
   ],
   "source": [
    "data_path = '../input/ck/CK+48'\n",
    "data_dir_list = os.listdir(data_path)\n",
    "\n",
    "img_rows=256\n",
    "img_cols=256\n",
    "num_channel=1\n",
    "\n",
    "num_epoch=10\n",
    "\n",
    "img_data_list=[]\n",
    "major_data_list= []\n",
    "buffer_data_list = []\n",
    "proper_data_list=[]\n",
    "\n",
    "emotion_int = 1\n",
    "image_count = 0\n",
    "emotions_dict = {}\n",
    "\n",
    "# processing all emotions\n",
    "for dataset in data_dir_list:\n",
    "    img_list=os.listdir(data_path+'/'+ dataset)\n",
    "    print ('Loaded the images of dataset-'+'{}\\n'.format(dataset))\n",
    "    for img in img_list:\n",
    "        input_img=cv2.imread(data_path + '/'+ dataset + '/'+ img )\n",
    "        #input_img=cv2.cvtColor(input_img, cv2.COLOR_BGR2GRAY)\n",
    "        input_img_resize=cv2.resize(input_img,(48,48))\n",
    "        img_data_list.append(input_img_resize)\n",
    "    major_data_list.append(img_data_list)\n",
    "    img_data_list = []\n",
    "\n",
    "# adding emotion codes (1,2,3,..) to image sets\n",
    "for emotion_sub in major_data_list:\n",
    "    for sublist in emotion_sub:\n",
    "        for img in sublist:\n",
    "            for pixl in img:\n",
    "                for intgr in pixl:\n",
    "                    buffer_data_list.append(intgr.tolist())\n",
    "        image_count += 1\n",
    "        proper_data_list.append([emotion_int])\n",
    "        proper_data_list.append(buffer_data_list)\n",
    "        buffer_data_list = []\n",
    "    emotions_dict[emotion_int] = image_count\n",
    "    image_count = 0\n",
    "    emotion_int += 1\n",
    "\n",
    "print('Done!')"
   ]
  },
  {
   "cell_type": "markdown",
   "metadata": {},
   "source": [
    "## Export to csv"
   ]
  },
  {
   "cell_type": "code",
   "execution_count": 3,
   "metadata": {},
   "outputs": [
    {
     "name": "stdout",
     "output_type": "stream",
     "text": [
      "Writing temp csv file...\n",
      "Done!\n"
     ]
    }
   ],
   "source": [
    "f = open('tempCsvFile.csv','w', newline='')\n",
    "writer = csv.writer(f)\n",
    "k = 0\n",
    "emotion_int_list = [1, 2, 3, 4, 5, 6, 7]\n",
    "print('Writing temp csv file...')\n",
    "\n",
    "for emotion_dict, emotion_count in emotions_dict.items():\n",
    "    n = 0\n",
    "\n",
    "    training_limit = round(emotion_count * 70 /100)\n",
    "    public_T_limit = round(emotion_count * 85 /100)\n",
    "    \n",
    "    d_list = proper_data_list[k*2:(emotion_count + k)*2]\n",
    "    \n",
    "    # split dataset into ~70% training data and ~30% test data\n",
    "\n",
    "    while n < (len(d_list) - 1):\n",
    "        added_values = []\n",
    "        label_value = ''\n",
    "        #pixel_value = ' '.join(proper_data_list[k+1])\n",
    "        pixel_value = ' '.join([str(elem) for elem in d_list[n+1]]) \n",
    "        added_values.append(pixel_value)\n",
    "        if n <= (training_limit*2):\n",
    "            label_value = 'Training'\n",
    "        elif n <= (public_T_limit*2):\n",
    "            label_value = 'PublicTest'\n",
    "        else:\n",
    "            label_value = 'PrivateTest'\n",
    "        added_values.append(label_value)\n",
    "        writer.writerow(d_list[n] + added_values)\n",
    "        n += 2\n",
    "    k += emotion_count\n",
    "    \n",
    "## Python will convert \\n to os.linesep\n",
    "f.close()\n",
    "print('Done!')"
   ]
  },
  {
   "cell_type": "markdown",
   "metadata": {},
   "source": [
    "## Read csv, then randomly shuffle rows"
   ]
  },
  {
   "cell_type": "code",
   "execution_count": 4,
   "metadata": {},
   "outputs": [
    {
     "name": "stdout",
     "output_type": "stream",
     "text": [
      "Writing final csv file...\n",
      "Done!\n"
     ]
    }
   ],
   "source": [
    "df = pd.read_csv('tempCsvFile.csv', header=0,dtype=object,na_filter=False)\n",
    "\n",
    "print('Writing final csv file...')\n",
    "\n",
    "df.columns =['emotion', 'pixels', 'Usage'] \n",
    "df_train = df.loc[df['Usage'] == 'Training']\n",
    "df_publicT = df.loc[df['Usage'] == 'PublicTest']\n",
    "df_privateT = df.loc[df['Usage'] == 'PrivateTest']\n",
    "\n",
    "shuffled_train = df_train.reindex(np.random.permutation(df_train.index))\n",
    "shuffled_publicT = df_publicT.reindex(np.random.permutation(df_publicT.index))\n",
    "shuffled_privateT = df_privateT.reindex(np.random.permutation(df_privateT.index))\n",
    "\n",
    "frames = [shuffled_train, shuffled_publicT, shuffled_privateT]\n",
    "shuffled = pd.concat(frames)\n",
    "\n",
    "shuffled.to_csv('ck+.csv', sep=',',encoding = 'utf-8',index = False)\n",
    "os.remove(\"tempCsvFile.csv\")\n",
    "\n",
    "print('Done!')"
   ]
  }
 ],
 "metadata": {
  "anaconda-cloud": {},
  "kernelspec": {
   "display_name": "Python 3",
   "language": "python",
   "name": "python3"
  },
  "language_info": {
   "codemirror_mode": {
    "name": "ipython",
    "version": 3
   },
   "file_extension": ".py",
   "mimetype": "text/x-python",
   "name": "python",
   "nbconvert_exporter": "python",
   "pygments_lexer": "ipython3",
   "version": "3.7.6"
  },
  "widgets": {
   "state": {},
   "version": "1.1.2"
  }
 },
 "nbformat": 4,
 "nbformat_minor": 1
}
